{
 "cells": [
  {
   "cell_type": "code",
   "execution_count": 31,
   "metadata": {},
   "outputs": [
    {
     "name": "stdout",
     "output_type": "stream",
     "text": [
      "Enter numbers with space : 1 2 3 4\n",
      "Original List : ['1', '2', '3', '4']\n",
      "List after removing duplicates :  ['4', '3', '1', '2']\n"
     ]
    }
   ],
   "source": [
    "# question 1--> Write a program to get a user input in the form of a list data type. Return a list by removing all the duplicates.\n",
    "#    Sample Input -> [4, 4, 5, 6, 8, 4, 5]\n",
    "#    Output -> [4, 5, 6, 8]\n",
    "\n",
    "#1.0\n",
    "\n",
    "a=input(\"Enter numbers with space : \")\n",
    "l=a.split(\" \")\n",
    "print(\"Original List :\",l)\n",
    "l=list(set(l))\n",
    "print(\"List after removing duplicates : \",l)"
   ]
  },
  {
   "cell_type": "code",
   "execution_count": 3,
   "metadata": {},
   "outputs": [
    {
     "name": "stdout",
     "output_type": "stream",
     "text": [
      "5\n",
      "20\n",
      "8\n",
      "1\n"
     ]
    }
   ],
   "source": [
    "# question--> 2 Write a program to create a user defined tuple with ‘int’ data type and perform the following operations:\n",
    "    #Find the length of tuples\n",
    "    #Find the sum of all the elements of a tuple\n",
    "    #Find the largest and smallest elements of a tuple\n",
    "    \n",
    "a= 8,1,2,4,5\n",
    "print(len(a))\n",
    "print (sum(a))\n",
    "print(max(a))\n",
    "print(min(a))"
   ]
  },
  {
   "cell_type": "code",
   "execution_count": 26,
   "metadata": {},
   "outputs": [
    {
     "name": "stdout",
     "output_type": "stream",
     "text": [
      "num = 3124\n",
      "i = 24\n",
      "16780340\n"
     ]
    }
   ],
   "source": [
    "# 3. Given a number and ith bit, change the ith bit of that number to 1.\n",
    "#    Sample Input -> num = 13, i = 1\n",
    "#    Output -> 15\n",
    "#    Explanation -> 13 can be represented as 1101 in binary. Now if we set the 1st bit of this binary represented value, we will get 1111 (i.e. 15) as output.\n",
    "\n",
    "num = int(input(\"num = \"))\n",
    "i = int(input(\"i = \"))\n",
    "mag_num = 1<<i\n",
    "bit = num ^ mag_num\n",
    "print(bit)"
   ]
  },
  {
   "cell_type": "code",
   "execution_count": 21,
   "metadata": {},
   "outputs": [
    {
     "name": "stdout",
     "output_type": "stream",
     "text": [
      "Enter a number : 345\n",
      "0\n"
     ]
    }
   ],
   "source": [
    "# 4. Given a number, print 1 if the number is odd otherwise print 0.\n",
    "#    NOTE: Try to do this program without the use of if else statement.\n",
    "\n",
    "a=int(input(\"Enter a number : \"))\n",
    "a=a%2==0\n",
    "a=int(a)\n",
    "print(a)"
   ]
  },
  {
   "cell_type": "code",
   "execution_count": 1,
   "metadata": {},
   "outputs": [
    {
     "name": "stdout",
     "output_type": "stream",
     "text": [
      "Enter numbers with space (A) : 1 3 4 6 7\n",
      "Enter numbers with space (B) : 1 5 7 8\n",
      "['1', '1', '3', '4', '5', '6', '7', '7', '8']\n"
     ]
    }
   ],
   "source": [
    "# 5. Given two lists of integers A and B. Write a program to merge them into a single sorted list that contains every item from list A and B in ascending order.\n",
    "\n",
    "a=input(\"Enter numbers with space (A) : \")\n",
    "a=a.split(\" \")\n",
    "b=input(\"Enter numbers with space (B) : \")\n",
    "b=b.split(\" \")\n",
    "c=a+b\n",
    "c.sort()\n",
    "print(c)"
   ]
  },
  {
   "cell_type": "code",
   "execution_count": 11,
   "metadata": {},
   "outputs": [
    {
     "name": "stdout",
     "output_type": "stream",
     "text": [
      "[('Oslo', 0), ('Moscow', 50), ('Berlin', 70), ('Nairobi', 100)]\n"
     ]
    }
   ],
   "source": [
    "# 6. Create a user defined dictionary to store names and marks of 5 students. Sort the dictionary according to marks and return this sorted dictionary to the user.\n",
    "#    Sample Input -> {'Berlin': 70, 'Oslo':0, 'Moscow':50, 'Nairobi':100}\n",
    "#    Output -> {'Oslo':0, 'Moscow':50, 'Berlin': 70, 'Nairobi':100}\n",
    "\n",
    "import operator\n",
    "x= {'Berlin': 70, 'Oslo': 0, 'Moscow': 50, 'Nairobi': 100}\n",
    "sorted_x = sorted(x.items(), key=operator.itemgetter(1))\n",
    "print(sorted_x)"
   ]
  },
  {
   "cell_type": "code",
   "execution_count": null,
   "metadata": {},
   "outputs": [],
   "source": []
  },
  {
   "cell_type": "code",
   "execution_count": null,
   "metadata": {},
   "outputs": [],
   "source": []
  }
 ],
 "metadata": {
  "kernelspec": {
   "display_name": "Python 3",
   "language": "python",
   "name": "python3"
  },
  "language_info": {
   "codemirror_mode": {
    "name": "ipython",
    "version": 3
   },
   "file_extension": ".py",
   "mimetype": "text/x-python",
   "name": "python",
   "nbconvert_exporter": "python",
   "pygments_lexer": "ipython3",
   "version": "3.7.6"
  }
 },
 "nbformat": 4,
 "nbformat_minor": 4
}
